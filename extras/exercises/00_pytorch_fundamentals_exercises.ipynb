{
  "cells": [
    {
      "cell_type": "markdown",
      "metadata": {
        "id": "AzDBM_v4iMe7"
      },
      "source": [
        "# 00. PyTorch Fundamentals Exercises\n",
        "\n",
        "### 1. Documentation reading \n",
        "\n",
        "A big part of deep learning (and learning to code in general) is getting familiar with the documentation of a certain framework you're using. We'll be using the PyTorch documentation a lot throughout the rest of this course. So I'd recommend spending 10-minutes reading the following (it's okay if you don't get some things for now, the focus is not yet full understanding, it's awareness):\n",
        "  * The documentation on [`torch.Tensor`](https://pytorch.org/docs/stable/tensors.html#torch-tensor).\n",
        "  * The documentation on [`torch.cuda`](https://pytorch.org/docs/master/notes/cuda.html#cuda-semantics).\n",
        "\n"
      ]
    },
    {
      "cell_type": "code",
      "execution_count": 1,
      "metadata": {
        "id": "bGD0oD8Kizak"
      },
      "outputs": [],
      "source": [
        "# No code solution (reading)"
      ]
    },
    {
      "cell_type": "markdown",
      "metadata": {
        "id": "__iXqqz-ioUJ"
      },
      "source": [
        "### 2. Create a random tensor with shape `(7, 7)`.\n"
      ]
    },
    {
      "cell_type": "code",
      "execution_count": 2,
      "metadata": {
        "id": "6pUq9Dc8i2L7"
      },
      "outputs": [
        {
          "data": {
            "text/plain": [
              "tensor([[0.0677, 0.9397, 0.6862, 0.1311, 0.1323, 0.2636, 0.9007],\n",
              "        [0.1768, 0.6162, 0.5510, 0.5181, 0.6852, 0.8480, 0.8150],\n",
              "        [0.2491, 0.3102, 0.7086, 0.9791, 0.9687, 0.4040, 0.1951],\n",
              "        [0.0624, 0.2855, 0.1302, 0.2453, 0.2570, 0.4002, 0.4539],\n",
              "        [0.9273, 0.9590, 0.7175, 0.4261, 0.5575, 0.9416, 0.0029],\n",
              "        [0.5832, 0.6537, 0.2448, 0.6108, 0.5524, 0.3331, 0.8463],\n",
              "        [0.7925, 0.8304, 0.3301, 0.2266, 0.3400, 0.6748, 0.8227]])"
            ]
          },
          "execution_count": 2,
          "metadata": {},
          "output_type": "execute_result"
        }
      ],
      "source": [
        "# Import torch\n",
        "import torch\n",
        "\n",
        "# Create random tensor\n",
        "TENSOR = torch.rand(7,7)\n",
        "TENSOR"
      ]
    },
    {
      "cell_type": "markdown",
      "metadata": {
        "id": "9-XxvRLfiqkR"
      },
      "source": [
        "### 3. Perform a matrix multiplication on the tensor from 2 with another random tensor with shape `(1, 7)` (hint: you may have to transpose the second tensor)."
      ]
    },
    {
      "cell_type": "code",
      "execution_count": 9,
      "metadata": {
        "id": "NcLqR0Sbi_vT"
      },
      "outputs": [
        {
          "name": "stdout",
          "output_type": "stream",
          "text": [
            "tensor([[0.9239],\n",
            "        [1.1444],\n",
            "        [0.9615],\n",
            "        [0.4380],\n",
            "        [1.3979],\n",
            "        [0.6276],\n",
            "        [0.9036]])\n",
            "torch.Size([7, 1])\n"
          ]
        }
      ],
      "source": [
        "# Create another random tensor\n",
        "TENSOR_2 = torch.rand(1,7)\n",
        "# Perform matrix multiplication \n",
        "print(TENSOR.matmul(TENSOR_2.T))\n",
        "print(TENSOR.matmul(TENSOR_2.T).shape)"
      ]
    },
    {
      "cell_type": "markdown",
      "metadata": {
        "id": "eiutdKUFiryU"
      },
      "source": [
        "### 4. Set the random seed to `0` and do 2 & 3 over again.\n",
        "\n",
        "The output should be:\n",
        "```\n",
        "(tensor([[1.8542],\n",
        "         [1.9611],\n",
        "         [2.2884],\n",
        "         [3.0481],\n",
        "         [1.7067],\n",
        "         [2.5290],\n",
        "         [1.7989]]), torch.Size([7, 1]))\n",
        "```"
      ]
    },
    {
      "cell_type": "code",
      "execution_count": 57,
      "metadata": {
        "id": "D-lOWI_1jRMm"
      },
      "outputs": [
        {
          "name": "stdout",
          "output_type": "stream",
          "text": [
            "tensor([[1.8542],\n",
            "        [1.9611],\n",
            "        [2.2884],\n",
            "        [3.0481],\n",
            "        [1.7067],\n",
            "        [2.5290],\n",
            "        [1.7989]]) torch.Size([7, 1])\n"
          ]
        }
      ],
      "source": [
        "# Set manual seed\n",
        "RANDOM_SEED = 0\n",
        "torch.manual_seed(seed=RANDOM_SEED)\n",
        "# Create two random tensors\n",
        "TENSOR = torch.rand(7,7)\n",
        "TENSOR_2 = torch.rand(1,7)\n",
        "# Matrix multiply tensors\n",
        "TENSOR_3 = TENSOR.matmul(TENSOR_2.T)\n",
        "print(TENSOR_3,TENSOR_3.shape)"
      ]
    },
    {
      "cell_type": "markdown",
      "metadata": {
        "id": "ezY6ks9Cis37"
      },
      "source": [
        "### 5. Speaking of random seeds, we saw how to set it with `torch.manual_seed()` but is there a GPU equivalent? (hint: you'll need to look into the documentation for `torch.cuda` for this one)\n",
        "  * If there is, set the GPU random seed to `1234`."
      ]
    },
    {
      "cell_type": "code",
      "execution_count": 12,
      "metadata": {
        "id": "_LKWcfSTjp00"
      },
      "outputs": [],
      "source": [
        "# Set random seed on the GPU\n",
        "torch.cuda.manual_seed(1234)"
      ]
    },
    {
      "cell_type": "markdown",
      "metadata": {
        "id": "Ir9qSaj6it4n"
      },
      "source": [
        "\n",
        "### 6. Create two random tensors of shape `(2, 3)` and send them both to the GPU (you'll need access to a GPU for this). Set `torch.manual_seed(1234)` when creating the tensors (this doesn't have to be the GPU random seed). The output should be something like:\n",
        "\n",
        "```\n",
        "Device: cuda\n",
        "(tensor([[0.0290, 0.4019, 0.2598],\n",
        "         [0.3666, 0.0583, 0.7006]], device='cuda:0'),\n",
        " tensor([[0.0518, 0.4681, 0.6738],\n",
        "         [0.3315, 0.7837, 0.5631]], device='cuda:0'))\n",
        "```"
      ]
    },
    {
      "cell_type": "code",
      "execution_count": 54,
      "metadata": {
        "id": "azXExiFZj5nm"
      },
      "outputs": [
        {
          "name": "stdout",
          "output_type": "stream",
          "text": [
            "device: cuda\n",
            "tensor([[0.1272, 0.8167, 0.5440],\n",
            "        [0.6601, 0.2721, 0.9737]], device='cuda:0')\n",
            "tensor([[0.6208, 0.0276, 0.3255],\n",
            "        [0.1114, 0.6812, 0.3608]], device='cuda:0')\n"
          ]
        }
      ],
      "source": [
        "# Set random seed\n",
        "RANDOM_SEED=1234\n",
        "torch.manual_seed(seed=RANDOM_SEED)\n",
        "# Check for access to GPU\n",
        "device = \"cuda\" if torch.cuda.is_available() else \"cpu\"\n",
        "print(\"device:\",device)\n",
        "# Create two random tensors on GPU\n",
        "TENSOR = torch.rand(2,3,device=device)\n",
        "TENSOR_2 = torch.rand(2,3,device=device)\n",
        "print(TENSOR)\n",
        "print(TENSOR_2)\n"
      ]
    },
    {
      "cell_type": "markdown",
      "metadata": {
        "id": "5TlAxeiSiu1y"
      },
      "source": [
        "\n",
        "### 7. Perform a matrix multiplication on the tensors you created in 6 (again, you may have to adjust the shapes of one of the tensors).\n",
        "\n",
        "The output should look like:\n",
        "```\n",
        "(tensor([[0.3647, 0.4709],\n",
        "         [0.5184, 0.5617]], device='cuda:0'), torch.Size([2, 2]))\n",
        "```"
      ]
    },
    {
      "cell_type": "code",
      "execution_count": 56,
      "metadata": {
        "id": "fAeG7ox0lHEO"
      },
      "outputs": [
        {
          "name": "stdout",
          "output_type": "stream",
          "text": [
            "tensor([[0.2786, 0.7668],\n",
            "        [0.7343, 0.6102]], device='cuda:0') torch.Size([2, 2])\n"
          ]
        }
      ],
      "source": [
        "# Perform matmul on tensor_A and tensor_B\n",
        "TENSOR_3 = TENSOR.matmul(TENSOR_2.T)\n",
        "print(TENSOR_3,TENSOR_3.shape)"
      ]
    },
    {
      "cell_type": "markdown",
      "metadata": {
        "id": "G7qfa5CSivwg"
      },
      "source": [
        "### 8. Find the maximum and minimum values of the output of 7."
      ]
    },
    {
      "cell_type": "code",
      "execution_count": 38,
      "metadata": {
        "id": "Fu8_3mZpllOd"
      },
      "outputs": [
        {
          "name": "stdout",
          "output_type": "stream",
          "text": [
            "Maximun:0.7667766809463501\n",
            "Minimum:0.27863210439682007\n"
          ]
        }
      ],
      "source": [
        "# Find max\n",
        "print(f\"Maximun:{TENSOR_3.max()}\")\n",
        "# Find min\n",
        "print(f\"Minimum:{TENSOR_3.min()}\")"
      ]
    },
    {
      "cell_type": "markdown",
      "metadata": {
        "id": "wrTj5FgNiw47"
      },
      "source": [
        "### 9. Find the maximum and minimum index values of the output of 7."
      ]
    },
    {
      "cell_type": "code",
      "execution_count": 50,
      "metadata": {
        "id": "CCEKt4K2lsfQ"
      },
      "outputs": [
        {
          "name": "stdout",
          "output_type": "stream",
          "text": [
            "Max index:(0, 1)\n",
            "Min index:(0, 0)\n"
          ]
        }
      ],
      "source": [
        "# Find arg max\n",
        "max_index = torch.unravel_index(TENSOR_3.argmax(),TENSOR_3.shape)\n",
        "max_index = (max_index[0].item(),max_index[1].item())\n",
        "print(f\"Max index:{max_index}\")\n",
        "# Find arg min\n",
        "min_index = torch.unravel_index(TENSOR_3.argmin(),TENSOR_3.shape)\n",
        "min_index = (min_index[0].item(),min_index[1].item())\n",
        "print(f\"Min index:{min_index}\")"
      ]
    },
    {
      "cell_type": "markdown",
      "metadata": {
        "id": "hmeybz4uixy7"
      },
      "source": [
        "\n",
        "### 10. Make a random tensor with shape `(1, 1, 1, 10)` and then create a new tensor with all the `1` dimensions removed to be left with a tensor of shape `(10)`. Set the seed to `7` when you create it and print out the first tensor and it's shape as well as the second tensor and it's shape.\n",
        "\n",
        "The output should look like:\n",
        "\n",
        "```\n",
        "tensor([[[[0.5349, 0.1988, 0.6592, 0.6569, 0.2328, 0.4251, 0.2071, 0.6297,\n",
        "           0.3653, 0.8513]]]]) torch.Size([1, 1, 1, 10])\n",
        "tensor([0.5349, 0.1988, 0.6592, 0.6569, 0.2328, 0.4251, 0.2071, 0.6297, 0.3653,\n",
        "        0.8513]) torch.Size([10])\n",
        "```"
      ]
    },
    {
      "cell_type": "code",
      "execution_count": 49,
      "metadata": {
        "id": "TQ9zbRzVl1jV"
      },
      "outputs": [
        {
          "name": "stdout",
          "output_type": "stream",
          "text": [
            "tensor([[[[0.5349, 0.1988, 0.6592, 0.6569, 0.2328, 0.4251, 0.2071, 0.6297,\n",
            "           0.3653, 0.8513]]]]) torch.Size([1, 1, 1, 10])\n",
            "tensor([0.5349, 0.1988, 0.6592, 0.6569, 0.2328, 0.4251, 0.2071, 0.6297, 0.3653,\n",
            "        0.8513]) torch.Size([10])\n"
          ]
        }
      ],
      "source": [
        "# Set seed\n",
        "RANDOM_SEED = 7\n",
        "torch.manual_seed(seed=RANDOM_SEED)\n",
        "# Create random tensor\n",
        "TENSOR = torch.rand(1,1,1,10)\n",
        "\n",
        "# Remove single dimensions\n",
        "TENSOR_2 = torch.squeeze(TENSOR)\n",
        "\n",
        "# Print out tensors and their shapes\n",
        "print(TENSOR,TENSOR.shape)\n",
        "print(TENSOR_2,TENSOR_2.shape)"
      ]
    }
  ],
  "metadata": {
    "accelerator": "GPU",
    "colab": {
      "collapsed_sections": [],
      "name": "00_pytorch_fundamentals_exercises.ipynb",
      "provenance": []
    },
    "kernelspec": {
      "display_name": "ac01",
      "language": "python",
      "name": "python3"
    },
    "language_info": {
      "codemirror_mode": {
        "name": "ipython",
        "version": 3
      },
      "file_extension": ".py",
      "mimetype": "text/x-python",
      "name": "python",
      "nbconvert_exporter": "python",
      "pygments_lexer": "ipython3",
      "version": "3.8.20"
    }
  },
  "nbformat": 4,
  "nbformat_minor": 0
}
